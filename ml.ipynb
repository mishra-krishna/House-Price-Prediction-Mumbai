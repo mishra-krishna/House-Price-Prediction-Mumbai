{
 "cells": [
  {
   "cell_type": "code",
   "execution_count": 1,
   "id": "initial_id",
   "metadata": {
    "collapsed": true
   },
   "outputs": [],
   "source": [
    "import pandas as pd\n",
    "from sklearn.linear_model import LinearRegression\n",
    "from sklearn.metrics import mean_squared_error, r2_score\n",
    "from sklearn.tree import DecisionTreeRegressor\n",
    "from sklearn.ensemble import RandomForestRegressor\n",
    "from sklearn.model_selection import GridSearchCV\n",
    "from sklearn.svm import SVR\n",
    "from sklearn.model_selection import train_test_split\n",
    "\n",
    "\n",
    "\n"
   ]
  },
  {
   "cell_type": "code",
   "execution_count": 2,
   "id": "a2f0ee85",
   "metadata": {},
   "outputs": [],
   "source": [
    "df = pd.read_csv(r'C:\\Users\\Krishna\\Documents\\codes\\House Price Prediction Mumbai\\data\\mumbai_cleaned.csv')"
   ]
  },
  {
   "cell_type": "code",
   "execution_count": 3,
   "id": "8e041675",
   "metadata": {},
   "outputs": [
    {
     "data": {
      "text/html": [
       "<div>\n",
       "<style scoped>\n",
       "    .dataframe tbody tr th:only-of-type {\n",
       "        vertical-align: middle;\n",
       "    }\n",
       "\n",
       "    .dataframe tbody tr th {\n",
       "        vertical-align: top;\n",
       "    }\n",
       "\n",
       "    .dataframe thead th {\n",
       "        text-align: right;\n",
       "    }\n",
       "</style>\n",
       "<table border=\"1\" class=\"dataframe\">\n",
       "  <thead>\n",
       "    <tr style=\"text-align: right;\">\n",
       "      <th></th>\n",
       "      <th>price</th>\n",
       "      <th>area</th>\n",
       "      <th>Bedrooms</th>\n",
       "      <th>Bathrooms</th>\n",
       "      <th>Furnished_status</th>\n",
       "    </tr>\n",
       "  </thead>\n",
       "  <tbody>\n",
       "    <tr>\n",
       "      <th>0</th>\n",
       "      <td>22400000.0</td>\n",
       "      <td>629.0</td>\n",
       "      <td>2</td>\n",
       "      <td>2</td>\n",
       "      <td>1</td>\n",
       "    </tr>\n",
       "    <tr>\n",
       "      <th>1</th>\n",
       "      <td>35000000.0</td>\n",
       "      <td>974.0</td>\n",
       "      <td>3</td>\n",
       "      <td>2</td>\n",
       "      <td>1</td>\n",
       "    </tr>\n",
       "    <tr>\n",
       "      <th>2</th>\n",
       "      <td>31700000.0</td>\n",
       "      <td>968.0</td>\n",
       "      <td>3</td>\n",
       "      <td>3</td>\n",
       "      <td>1</td>\n",
       "    </tr>\n",
       "    <tr>\n",
       "      <th>3</th>\n",
       "      <td>18700000.0</td>\n",
       "      <td>629.0</td>\n",
       "      <td>2</td>\n",
       "      <td>2</td>\n",
       "      <td>1</td>\n",
       "    </tr>\n",
       "    <tr>\n",
       "      <th>4</th>\n",
       "      <td>13500000.0</td>\n",
       "      <td>1090.0</td>\n",
       "      <td>2</td>\n",
       "      <td>2</td>\n",
       "      <td>1</td>\n",
       "    </tr>\n",
       "  </tbody>\n",
       "</table>\n",
       "</div>"
      ],
      "text/plain": [
       "        price    area  Bedrooms  Bathrooms  Furnished_status\n",
       "0  22400000.0   629.0         2          2                 1\n",
       "1  35000000.0   974.0         3          2                 1\n",
       "2  31700000.0   968.0         3          3                 1\n",
       "3  18700000.0   629.0         2          2                 1\n",
       "4  13500000.0  1090.0         2          2                 1"
      ]
     },
     "execution_count": 3,
     "metadata": {},
     "output_type": "execute_result"
    }
   ],
   "source": [
    "df.head()"
   ]
  },
  {
   "cell_type": "code",
   "execution_count": 4,
   "id": "81af67cf",
   "metadata": {},
   "outputs": [
    {
     "name": "stdout",
     "output_type": "stream",
     "text": [
      "Index(['area', 'Bedrooms', 'Bathrooms', 'Furnished_status'], dtype='object')\n"
     ]
    }
   ],
   "source": [
    "# Separate the target variable\n",
    "target = df['price']\n",
    "\n",
    "# Separate the other features\n",
    "features = df.drop('price', axis=1)\n",
    "print(features.columns)"
   ]
  },
  {
   "cell_type": "code",
   "execution_count": 5,
   "id": "12aa8fe2",
   "metadata": {},
   "outputs": [
    {
     "name": "stdout",
     "output_type": "stream",
     "text": [
      "Training set shape: (4943, 4)\n",
      "Test set shape: (1013, 4)\n"
     ]
    }
   ],
   "source": [
    "\n",
    "\n",
    "# Split the columns into training and test sets\n",
    "X_train, X_test, y_train, y_test = train_test_split(features, target, test_size=0.17, random_state=42)\n",
    "\n",
    "# Print the shapes of the training and test sets\n",
    "print(\"Training set shape:\", X_train.shape)\n",
    "print(\"Test set shape:\", X_test.shape)\n"
   ]
  },
  {
   "cell_type": "code",
   "execution_count": 6,
   "id": "8e5ced99",
   "metadata": {},
   "outputs": [],
   "source": [
    "\n",
    "def linear_regression(X_train, X_test, y_train, y_test, X_pred):\n",
    "    # Create a linear regression model\n",
    "    model = LinearRegression()\n",
    "    \n",
    "    # Fit the model on the training data\n",
    "    model.fit(X_train, y_train)\n",
    "    \n",
    "    # Predict the target variable for the test data\n",
    "    y_pred = model.predict(X_test)\n",
    "    \n",
    "    # Predict the target variable for the user-provided data\n",
    "    y_pred_user = model.predict(X_pred)\n",
    "    \n",
    "    mse = r2_score(y_test, y_pred)\n",
    "    \n",
    "    \n",
    "    \n",
    "    return mse , y_pred_user\n"
   ]
  },
  {
   "cell_type": "code",
   "execution_count": 7,
   "id": "2f28745d",
   "metadata": {},
   "outputs": [],
   "source": [
    "\n",
    "\n",
    "def decision_tree_regressor(X_train, X_test, y_train, y_test, X_pred):\n",
    "    # Define the hyperparameters grid\n",
    "    param_grid = {\n",
    "        'max_depth': [None, 5, 10, 15],\n",
    "        'min_samples_split': [2, 5, 10],  \n",
    "        'min_samples_leaf': [1, 2, 4]  \n",
    "    }\n",
    "\n",
    "    # Create a decision tree regressor model\n",
    "    dt_regressor = DecisionTreeRegressor()\n",
    "\n",
    "    # Create GridSearchCV object\n",
    "    grid_search = GridSearchCV(estimator=dt_regressor, param_grid=param_grid, cv=5, scoring='neg_mean_squared_error', n_jobs=-1)\n",
    "\n",
    "    # Fit the model on the training data with hyperparameter tuning\n",
    "    grid_search.fit(X_train, y_train)\n",
    "\n",
    "    # Get the best parameters and the best estimator\n",
    "    best_regressor = grid_search.best_estimator_\n",
    "\n",
    "    # Predict the target variable for the test data\n",
    "    y_pred = best_regressor.predict(X_test)\n",
    "    \n",
    "    # Predict the target variable for the user-provided data\n",
    "    y_pred_user = best_regressor.predict(X_pred)\n",
    "\n",
    "    # Calculate Mean Squared Error for test data\n",
    "    mse = r2_score(y_test, y_pred)\n",
    "\n",
    "    return mse, y_pred_user\n"
   ]
  },
  {
   "cell_type": "code",
   "execution_count": 8,
   "id": "4934ead4",
   "metadata": {},
   "outputs": [],
   "source": [
    "\n",
    "def random_forest_regressor(X_train, X_test, y_train, y_test, X_pred):\n",
    "    # Create a random forest regressor model\n",
    "    model = RandomForestRegressor()\n",
    "    \n",
    "    # Fit the model on the training data\n",
    "    model.fit(X_train, y_train)\n",
    "    \n",
    "    # Predict the target variable for the test data\n",
    "    y_pred = model.predict(X_test)\n",
    "    \n",
    "    # Predict the target variable for the user-provided data\n",
    "    y_pred_user = model.predict(X_pred)\n",
    "    \n",
    "    mse = r2_score(y_test, y_pred)\n",
    "    \n",
    "    return mse, y_pred_user\n"
   ]
  },
  {
   "cell_type": "code",
   "execution_count": 9,
   "id": "d2aa3496",
   "metadata": {},
   "outputs": [],
   "source": [
    "\n",
    "def support_vector_regressor(X_train, X_test, y_train, y_test, X_pred):\n",
    "    # Define the hyperparameters grid\n",
    "    param_grid = {\n",
    "        'kernel': ['linear', 'poly', 'rbf']\n",
    "    }\n",
    "\n",
    "    # Create a support vector regressor model\n",
    "    model = SVR()\n",
    "\n",
    "    # Create GridSearchCV object\n",
    "    grid_search = GridSearchCV(estimator=model, param_grid=param_grid, cv=5, scoring='neg_mean_squared_error', n_jobs=-1)\n",
    "\n",
    "    # Fit the model on the training data with hyperparameter tuning\n",
    "    grid_search.fit(X_train, y_train)\n",
    "\n",
    "    # Get the best parameters and the best estimator\n",
    "    best_regressor = grid_search.best_estimator_\n",
    "\n",
    "    # Predict the target variable for the test data\n",
    "    y_pred = best_regressor.predict(X_test)\n",
    "\n",
    "    # Predict the target variable for the user-provided data\n",
    "    y_pred_user = best_regressor.predict(X_pred)\n",
    "\n",
    "    mse = r2_score(y_test, y_pred)\n",
    "\n",
    "    return mse, y_pred_user\n"
   ]
  }
 ],
 "metadata": {
  "kernelspec": {
   "display_name": "Python 3",
   "language": "python",
   "name": "python3"
  },
  "language_info": {
   "codemirror_mode": {
    "name": "ipython",
    "version": 3
   },
   "file_extension": ".py",
   "mimetype": "text/x-python",
   "name": "python",
   "nbconvert_exporter": "python",
   "pygments_lexer": "ipython3",
   "version": "3.10.11"
  }
 },
 "nbformat": 4,
 "nbformat_minor": 5
}
